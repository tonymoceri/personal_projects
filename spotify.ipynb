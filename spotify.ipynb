{
 "cells": [
  {
   "cell_type": "code",
   "execution_count": 1,
   "metadata": {},
   "outputs": [
    {
     "name": "stderr",
     "output_type": "stream",
     "text": [
      "/var/folders/m5/qxcyvtcn2bd1qt6xxnplw0pw0000gn/T/ipykernel_12190/4199147742.py:2: DeprecationWarning: \n",
      "Pyarrow will become a required dependency of pandas in the next major release of pandas (pandas 3.0),\n",
      "(to allow more performant data types, such as the Arrow string type, and better interoperability with other libraries)\n",
      "but was not found to be installed on your system.\n",
      "If this would cause problems for you,\n",
      "please provide us feedback at https://github.com/pandas-dev/pandas/issues/54466\n",
      "        \n",
      "  import pandas as pd\n"
     ]
    }
   ],
   "source": [
    "import requests \n",
    "import pandas as pd"
   ]
  },
  {
   "cell_type": "code",
   "execution_count": 18,
   "metadata": {},
   "outputs": [
    {
     "data": {
      "text/plain": [
       "True"
      ]
     },
     "execution_count": 18,
     "metadata": {},
     "output_type": "execute_result"
    }
   ],
   "source": [
    "import webbrowser\n",
    "\n",
    "client_id = '36dd0c84bf9f436998ef368e1bcd46de'\n",
    "client_secret = 'aa1120d6efcf49c4987dce0c3c1dacfb'\n",
    "redirect_uri = 'https://developer.spotify.com/'\n",
    "scope = 'user-top-read'\n",
    "\n",
    "auth_url = f'https://accounts.spotify.com/authorize?response_type=code&client_id={client_id}&scope={scope}&redirect_uri={redirect_uri}'\n",
    "webbrowser.open(auth_url)\n"
   ]
  },
  {
   "cell_type": "code",
   "execution_count": 15,
   "metadata": {},
   "outputs": [
    {
     "name": "stdout",
     "output_type": "stream",
     "text": [
      "Access token obtained successfully\n"
     ]
    }
   ],
   "source": [
    "import requests\n",
    "\n",
    "# Replace with the authorization code you received\n",
    "authorization_code = input('Enter the authorization code from the URL: ')\n",
    "\n",
    "token_url = 'https://accounts.spotify.com/api/token'\n",
    "client_id = '36dd0c84bf9f436998ef368e1bcd46de'\n",
    "client_secret = 'aa1120d6efcf49c4987dce0c3c1dacfb'\n",
    "redirect_uri = 'https://developer.spotify.com/'\n",
    "\n",
    "response = requests.post(token_url, data={\n",
    "    'grant_type': 'authorization_code',\n",
    "    'code': authorization_code,\n",
    "    'redirect_uri': redirect_uri,\n",
    "    'client_id': client_id,\n",
    "    'client_secret': client_secret,\n",
    "})\n",
    "\n",
    "# Check if the request was successful\n",
    "if response.status_code != 200:\n",
    "    print('Error getting access token:', response.json())\n",
    "else:\n",
    "    token_data = response.json()\n",
    "    if 'access_token' in token_data:\n",
    "        access_token = token_data['access_token']\n",
    "        print('Access token obtained successfully')\n",
    "    else:\n",
    "        print('Access token not found in response:', token_data)\n",
    "\n"
   ]
  },
  {
   "cell_type": "code",
   "execution_count": 16,
   "metadata": {},
   "outputs": [
    {
     "name": "stdout",
     "output_type": "stream",
     "text": [
      "Track Name: Box Fan Slumber, Artist: Dozy Sounds, Popularity: 51, Album: Dozy Air\n",
      "Track Name: Creatures in Heaven, Artist: Glass Animals, Popularity: 74, Album: Creatures In Heaven\n",
      "Track Name: FE!N (feat. Playboi Carti), Artist: Travis Scott, Popularity: 92, Album: UTOPIA\n",
      "Track Name: De Selby (Part 2), Artist: Hozier, Popularity: 65, Album: Unreal Unearth\n",
      "Track Name: Got Me Started, Artist: Troye Sivan, Popularity: 76, Album: Something To Give Each Other\n",
      "Track Name: Jackie and Wilson, Artist: Hozier, Popularity: 72, Album: Hozier (Expanded Edition)\n",
      "Track Name: Dance Now (feat. Kenny Mason), Artist: JID, Popularity: 68, Album: The Forever Story (Extended Version)\n",
      "Track Name: Damage Gets Done (feat. Brandi Carlile), Artist: Hozier, Popularity: 62, Album: Unreal Unearth\n",
      "Track Name: Almost (Sweet Music), Artist: Hozier, Popularity: 75, Album: Wasteland, Baby!\n",
      "Track Name: THE REV3NGE, Artist: Joey Bada$$, Popularity: 60, Album: THE REV3NGE\n",
      "Track Name: Waving Through A Window, Artist: Ben Platt, Popularity: 60, Album: Dear Evan Hansen (Original Broadway Cast Recording)\n",
      "Track Name: De Selby (Part 1), Artist: Hozier, Popularity: 59, Album: Unreal Unearth\n",
      "Track Name: End of Beginning, Artist: Djo, Popularity: 96, Album: DECIDE\n",
      "Track Name: trademark usa, Artist: Baby Keem, Popularity: 69, Album: The Melodic Blue\n",
      "Track Name: Hot Sugar, Artist: Glass Animals, Popularity: 55, Album: Dreamland\n",
      "Track Name: Homegrown, Artist: Zac Brown Band, Popularity: 70, Album: JEKYLL + HYDE\n",
      "Track Name: Percy Jackson and the Olympians, Artist: Bear McCreary, Popularity: 35, Album: Percy Jackson and the Olympians (Original Series Soundtrack)\n",
      "Track Name: Nina Cried Power (feat. Mavis Staples), Artist: Hozier, Popularity: 57, Album: Wasteland, Baby!\n",
      "Track Name: Too Sweet, Artist: Hozier, Popularity: 86, Album: Unheard\n",
      "Track Name: vent, Artist: Baby Keem, Popularity: 67, Album: The Melodic Blue\n"
     ]
    }
   ],
   "source": [
    "def fetch_top_tracks(access_token):\n",
    "    headers = {\n",
    "        'Authorization': f'Bearer {access_token}'\n",
    "    }\n",
    "    endpoint_url = 'https://api.spotify.com/v1/me/top/tracks'\n",
    "    response = requests.get(endpoint_url, headers=headers)\n",
    "    \n",
    "    if response.status_code != 200:\n",
    "        print('Error fetching data:', response.json())\n",
    "        return None\n",
    "    \n",
    "    data = response.json()\n",
    "    \n",
    "    if 'items' not in data:\n",
    "        print('No items found in the response:', data)\n",
    "        return None\n",
    "    \n",
    "    tracks = []\n",
    "    for item in data['items']:\n",
    "        tracks.append({\n",
    "            'Track Name': item['name'],\n",
    "            'Artist': item['artists'][0]['name'],\n",
    "            'Popularity': item['popularity'],\n",
    "            'Album': item['album']['name']\n",
    "        })\n",
    "    \n",
    "    return tracks\n",
    "\n",
    "# Fetch and print the top tracks\n",
    "top_tracks = fetch_top_tracks(access_token)\n",
    "if top_tracks:\n",
    "    for track in top_tracks:\n",
    "        print(f\"Track Name: {track['Track Name']}, Artist: {track['Artist']}, Popularity: {track['Popularity']}, Album: {track['Album']}\")\n"
   ]
  },
  {
   "cell_type": "code",
   "execution_count": 19,
   "metadata": {},
   "outputs": [
    {
     "name": "stdout",
     "output_type": "stream",
     "text": [
      "Error fetching data: {'error': {'status': 401, 'message': 'Invalid access token'}}\n",
      "Error fetching data: {'error': {'status': 401, 'message': 'Invalid access token'}}\n",
      "Error fetching data: {'error': {'status': 401, 'message': 'Invalid access token'}}\n"
     ]
    },
    {
     "ename": "ValueError",
     "evalue": "All objects passed were None",
     "output_type": "error",
     "traceback": [
      "\u001b[0;31m---------------------------------------------------------------------------\u001b[0m",
      "\u001b[0;31mValueError\u001b[0m                                Traceback (most recent call last)",
      "Cell \u001b[0;32mIn[19], line 35\u001b[0m\n\u001b[1;32m     32\u001b[0m long_term_artists \u001b[38;5;241m=\u001b[39m fetch_top_artists(access_token, time_range\u001b[38;5;241m=\u001b[39m\u001b[38;5;124m'\u001b[39m\u001b[38;5;124mlong_term\u001b[39m\u001b[38;5;124m'\u001b[39m)\n\u001b[1;32m     34\u001b[0m \u001b[38;5;66;03m# Combine the data into a single DataFrame\u001b[39;00m\n\u001b[0;32m---> 35\u001b[0m all_artists \u001b[38;5;241m=\u001b[39m \u001b[43mpd\u001b[49m\u001b[38;5;241;43m.\u001b[39;49m\u001b[43mconcat\u001b[49m\u001b[43m(\u001b[49m\u001b[43m[\u001b[49m\u001b[43mshort_term_artists\u001b[49m\u001b[43m,\u001b[49m\u001b[43m \u001b[49m\u001b[43mmedium_term_artists\u001b[49m\u001b[43m,\u001b[49m\u001b[43m \u001b[49m\u001b[43mlong_term_artists\u001b[49m\u001b[43m]\u001b[49m\u001b[43m)\u001b[49m\n\u001b[1;32m     37\u001b[0m \u001b[38;5;66;03m# Save to a CSV file\u001b[39;00m\n\u001b[1;32m     38\u001b[0m all_artists\u001b[38;5;241m.\u001b[39mto_csv(\u001b[38;5;124m'\u001b[39m\u001b[38;5;124mtop_artists_over_time.csv\u001b[39m\u001b[38;5;124m'\u001b[39m, index\u001b[38;5;241m=\u001b[39m\u001b[38;5;28;01mFalse\u001b[39;00m)\n",
      "File \u001b[0;32m~/anaconda3/lib/python3.10/site-packages/pandas/core/reshape/concat.py:380\u001b[0m, in \u001b[0;36mconcat\u001b[0;34m(objs, axis, join, ignore_index, keys, levels, names, verify_integrity, sort, copy)\u001b[0m\n\u001b[1;32m    377\u001b[0m \u001b[38;5;28;01melif\u001b[39;00m copy \u001b[38;5;129;01mand\u001b[39;00m using_copy_on_write():\n\u001b[1;32m    378\u001b[0m     copy \u001b[38;5;241m=\u001b[39m \u001b[38;5;28;01mFalse\u001b[39;00m\n\u001b[0;32m--> 380\u001b[0m op \u001b[38;5;241m=\u001b[39m \u001b[43m_Concatenator\u001b[49m\u001b[43m(\u001b[49m\n\u001b[1;32m    381\u001b[0m \u001b[43m    \u001b[49m\u001b[43mobjs\u001b[49m\u001b[43m,\u001b[49m\n\u001b[1;32m    382\u001b[0m \u001b[43m    \u001b[49m\u001b[43maxis\u001b[49m\u001b[38;5;241;43m=\u001b[39;49m\u001b[43maxis\u001b[49m\u001b[43m,\u001b[49m\n\u001b[1;32m    383\u001b[0m \u001b[43m    \u001b[49m\u001b[43mignore_index\u001b[49m\u001b[38;5;241;43m=\u001b[39;49m\u001b[43mignore_index\u001b[49m\u001b[43m,\u001b[49m\n\u001b[1;32m    384\u001b[0m \u001b[43m    \u001b[49m\u001b[43mjoin\u001b[49m\u001b[38;5;241;43m=\u001b[39;49m\u001b[43mjoin\u001b[49m\u001b[43m,\u001b[49m\n\u001b[1;32m    385\u001b[0m \u001b[43m    \u001b[49m\u001b[43mkeys\u001b[49m\u001b[38;5;241;43m=\u001b[39;49m\u001b[43mkeys\u001b[49m\u001b[43m,\u001b[49m\n\u001b[1;32m    386\u001b[0m \u001b[43m    \u001b[49m\u001b[43mlevels\u001b[49m\u001b[38;5;241;43m=\u001b[39;49m\u001b[43mlevels\u001b[49m\u001b[43m,\u001b[49m\n\u001b[1;32m    387\u001b[0m \u001b[43m    \u001b[49m\u001b[43mnames\u001b[49m\u001b[38;5;241;43m=\u001b[39;49m\u001b[43mnames\u001b[49m\u001b[43m,\u001b[49m\n\u001b[1;32m    388\u001b[0m \u001b[43m    \u001b[49m\u001b[43mverify_integrity\u001b[49m\u001b[38;5;241;43m=\u001b[39;49m\u001b[43mverify_integrity\u001b[49m\u001b[43m,\u001b[49m\n\u001b[1;32m    389\u001b[0m \u001b[43m    \u001b[49m\u001b[43mcopy\u001b[49m\u001b[38;5;241;43m=\u001b[39;49m\u001b[43mcopy\u001b[49m\u001b[43m,\u001b[49m\n\u001b[1;32m    390\u001b[0m \u001b[43m    \u001b[49m\u001b[43msort\u001b[49m\u001b[38;5;241;43m=\u001b[39;49m\u001b[43msort\u001b[49m\u001b[43m,\u001b[49m\n\u001b[1;32m    391\u001b[0m \u001b[43m\u001b[49m\u001b[43m)\u001b[49m\n\u001b[1;32m    393\u001b[0m \u001b[38;5;28;01mreturn\u001b[39;00m op\u001b[38;5;241m.\u001b[39mget_result()\n",
      "File \u001b[0;32m~/anaconda3/lib/python3.10/site-packages/pandas/core/reshape/concat.py:443\u001b[0m, in \u001b[0;36m_Concatenator.__init__\u001b[0;34m(self, objs, axis, join, keys, levels, names, ignore_index, verify_integrity, copy, sort)\u001b[0m\n\u001b[1;32m    440\u001b[0m \u001b[38;5;28mself\u001b[39m\u001b[38;5;241m.\u001b[39mverify_integrity \u001b[38;5;241m=\u001b[39m verify_integrity\n\u001b[1;32m    441\u001b[0m \u001b[38;5;28mself\u001b[39m\u001b[38;5;241m.\u001b[39mcopy \u001b[38;5;241m=\u001b[39m copy\n\u001b[0;32m--> 443\u001b[0m objs, keys \u001b[38;5;241m=\u001b[39m \u001b[38;5;28;43mself\u001b[39;49m\u001b[38;5;241;43m.\u001b[39;49m\u001b[43m_clean_keys_and_objs\u001b[49m\u001b[43m(\u001b[49m\u001b[43mobjs\u001b[49m\u001b[43m,\u001b[49m\u001b[43m \u001b[49m\u001b[43mkeys\u001b[49m\u001b[43m)\u001b[49m\n\u001b[1;32m    445\u001b[0m \u001b[38;5;66;03m# figure out what our result ndim is going to be\u001b[39;00m\n\u001b[1;32m    446\u001b[0m ndims \u001b[38;5;241m=\u001b[39m \u001b[38;5;28mself\u001b[39m\u001b[38;5;241m.\u001b[39m_get_ndims(objs)\n",
      "File \u001b[0;32m~/anaconda3/lib/python3.10/site-packages/pandas/core/reshape/concat.py:539\u001b[0m, in \u001b[0;36m_Concatenator._clean_keys_and_objs\u001b[0;34m(self, objs, keys)\u001b[0m\n\u001b[1;32m    536\u001b[0m         keys \u001b[38;5;241m=\u001b[39m Index(clean_keys, name\u001b[38;5;241m=\u001b[39mname, dtype\u001b[38;5;241m=\u001b[39m\u001b[38;5;28mgetattr\u001b[39m(keys, \u001b[38;5;124m\"\u001b[39m\u001b[38;5;124mdtype\u001b[39m\u001b[38;5;124m\"\u001b[39m, \u001b[38;5;28;01mNone\u001b[39;00m))\n\u001b[1;32m    538\u001b[0m \u001b[38;5;28;01mif\u001b[39;00m \u001b[38;5;28mlen\u001b[39m(objs_list) \u001b[38;5;241m==\u001b[39m \u001b[38;5;241m0\u001b[39m:\n\u001b[0;32m--> 539\u001b[0m     \u001b[38;5;28;01mraise\u001b[39;00m \u001b[38;5;167;01mValueError\u001b[39;00m(\u001b[38;5;124m\"\u001b[39m\u001b[38;5;124mAll objects passed were None\u001b[39m\u001b[38;5;124m\"\u001b[39m)\n\u001b[1;32m    541\u001b[0m \u001b[38;5;28;01mreturn\u001b[39;00m objs_list, keys\n",
      "\u001b[0;31mValueError\u001b[0m: All objects passed were None"
     ]
    }
   ],
   "source": [
    "# Function to get top artists for a specific time range\n",
    "def fetch_top_artists(access_token, time_range='medium_term', limit=50):\n",
    "    headers = {\n",
    "        'Authorization': f'Bearer {access_token}'\n",
    "    }\n",
    "    endpoint_url = f'https://api.spotify.com/v1/me/top/artists?time_range={time_range}&limit={limit}'\n",
    "    response = requests.get(endpoint_url, headers=headers)\n",
    "    \n",
    "    if response.status_code != 200:\n",
    "        print('Error fetching data:', response.json())\n",
    "        return None\n",
    "    \n",
    "    data = response.json()\n",
    "    artists = []\n",
    "    for item in data['items']:\n",
    "        artists.append({\n",
    "            'Artist Name': item['name'],\n",
    "            'Artist ID': item['id'],\n",
    "            'Popularity': item['popularity'],\n",
    "            'Genres': item['genres'],\n",
    "            'Time Range': time_range\n",
    "        })\n",
    "    \n",
    "    return pd.DataFrame(artists)\n",
    "\n",
    "# Assuming access_token is already obtained\n",
    "access_token = 'AQBUgV4VtbfLVfRQyFJREXLwGCEKwBKzi2VpfCTPFmlT7vJRFGM-31MV4i4HTK9JWvJlIuQ8Eq9Vfb90GqmEuptHN1EHsaBtEKgY1ddiNxUCqL54IHS-9iHmQRq1DAuChxphuXzlTFiasObg2KexwJ4TLIVQ_IaaMYfVEE7mOK-nW36XRIqpllCuz_WENeo_IQ'\n",
    "\n",
    "# Fetch top artists for different time ranges\n",
    "short_term_artists = fetch_top_artists(access_token, time_range='short_term')\n",
    "medium_term_artists = fetch_top_artists(access_token, time_range='medium_term')\n",
    "long_term_artists = fetch_top_artists(access_token, time_range='long_term')\n",
    "\n",
    "# Combine the data into a single DataFrame\n",
    "all_artists = pd.concat([short_term_artists, medium_term_artists, long_term_artists])\n",
    "\n",
    "# Save to a CSV file\n",
    "all_artists.to_csv('top_artists_over_time.csv', index=False)\n",
    "\n",
    "print(\"Data fetched and saved to 'top_artists_over_time.csv'\")\n"
   ]
  },
  {
   "cell_type": "code",
   "execution_count": null,
   "metadata": {},
   "outputs": [],
   "source": []
  }
 ],
 "metadata": {
  "kernelspec": {
   "display_name": "base",
   "language": "python",
   "name": "python3"
  },
  "language_info": {
   "codemirror_mode": {
    "name": "ipython",
    "version": 3
   },
   "file_extension": ".py",
   "mimetype": "text/x-python",
   "name": "python",
   "nbconvert_exporter": "python",
   "pygments_lexer": "ipython3",
   "version": "3.10.11"
  }
 },
 "nbformat": 4,
 "nbformat_minor": 2
}
